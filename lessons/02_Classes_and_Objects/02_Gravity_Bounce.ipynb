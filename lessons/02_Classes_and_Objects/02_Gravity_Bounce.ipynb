{
 "cells": [
  {
   "cell_type": "markdown",
   "metadata": {},
   "source": [
    "# Gravity Bounce Object Style\n",
    "\n",
    "Now that we have a basic understanding of how objects work, we can work on an\n",
    "updated version of the Gravity Bounce program. \n",
    "\n",
    "## Assignment\n",
    "\n",
    "1. Open `03_gravity_bounce_obj.py` \n",
    "2. Review the program and try to understand how it works.\n",
    "3. Change the program so that the player's initial velocity and position are set\n",
    "   in the initializer to the `Player` class.\n",
    "4. Add a color for the player, configurable in the initializer.\n",
    "5. Add a second player to the game. The second player should be a different\n",
    "   color and have different initial position and velocity.\n",
    "\n",
    "When you are done, your program should have two player objects ( but only one\n",
    "Player class!), of different colors, bouncing around in different trajectories. \n",
    "\n",
    "## Next Steps \n",
    "\n",
    "1. Check in your code!\n",
    "2. Read the [Pygame Documentation](https://www.pygame.org/docs/index.html).\n",
    "3. Open [03_Vectors/README.md](../03_Vectors/README.md) to learn about vectors."
   ]
  },
  {
   "cell_type": "markdown",
   "metadata": {},
   "source": []
  }
 ],
 "metadata": {
  "language_info": {
   "name": "python"
  }
 },
 "nbformat": 4,
 "nbformat_minor": 2
}
